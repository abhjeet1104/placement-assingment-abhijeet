{
 "cells": [
  {
   "attachments": {},
   "cell_type": "markdown",
   "metadata": {},
   "source": [
    "Question 10 -\n",
    "\n",
    "Write a program to count the number of verbs, nouns, pronouns, and adjectives in a given particular phrase or\n",
    "paragraph, and return their respective count as a dictionary.\n",
    "Note -\n",
    "\n",
    "\n",
    "1. Write code comments wherever required for code\n",
    "\n",
    "2. You have to write at least 2 additional test cases in which your program will run successfully and provide\n",
    "an explanation for the same.\n",
    "\n",
    "Example Output -\n",
    "\n"
   ]
  },
  {
   "cell_type": "code",
   "execution_count": 1,
   "metadata": {},
   "outputs": [
    {
     "name": "stdout",
     "output_type": "stream",
     "text": [
      "{'nouns': 5, 'pronouns': 1, 'verbs': 5, 'adjectives': 5}\n",
      "{'nouns': 14, 'pronouns': 1, 'verbs': 14, 'adjectives': 14}\n"
     ]
    }
   ],
   "source": [
    "import re\n",
    "\n",
    "def count_pos_tags(text):\n",
    "    # Define regular expressions for matching different parts of speech\n",
    "    noun_pattern = re.compile(r'\\b[A-Za-z]+[s]?\\b', re.IGNORECASE)\n",
    "    pronoun_pattern = re.compile(r'\\b(I|me|my|mine|you|your|yours|he|him|his|she|her|hers|it|its|we|us|our|ours|they|them|their|theirs)\\b', re.IGNORECASE)\n",
    "    verb_pattern = re.compile(r'\\b[A-Za-z]+(?:s|ed|ing)?\\b', re.IGNORECASE)\n",
    "    adjective_pattern = re.compile(r'\\b[A-Za-z]+\\b', re.IGNORECASE)\n",
    "\n",
    "    # Initialize counts\n",
    "    noun_count = 0\n",
    "    pronoun_count = 0\n",
    "    verb_count = 0\n",
    "    adjective_count = 0\n",
    "\n",
    "    # Find matches for each part of speech\n",
    "    noun_matches = re.findall(noun_pattern, text)\n",
    "    pronoun_matches = re.findall(pronoun_pattern, text)\n",
    "    verb_matches = re.findall(verb_pattern, text)\n",
    "    adjective_matches = re.findall(adjective_pattern, text)\n",
    "\n",
    "    # Count the matches\n",
    "    noun_count = len(noun_matches)\n",
    "    pronoun_count = len(pronoun_matches)\n",
    "    verb_count = len(verb_matches)\n",
    "    adjective_count = len(adjective_matches)\n",
    "\n",
    "    # Create and return the dictionary\n",
    "    pos_counts = {\n",
    "        'nouns': noun_count,\n",
    "        'pronouns': pronoun_count,\n",
    "        'verbs': verb_count,\n",
    "        'adjectives': adjective_count\n",
    "    }\n",
    "    return pos_counts\n",
    "\n",
    "# Test case 1\n",
    "text = \"I love to eat pizza.\"\n",
    "result = count_pos_tags(text)\n",
    "print(result)\n",
    "\n",
    "#Test case 2\n",
    "text = \"The cat chased the mouse. It was quick and agile. The dog barked loudly.\"\n",
    "result = count_pos_tags(text)\n",
    "print(result)"
   ]
  }
 ],
 "metadata": {
  "kernelspec": {
   "display_name": "Python 3",
   "language": "python",
   "name": "python3"
  },
  "language_info": {
   "codemirror_mode": {
    "name": "ipython",
    "version": 3
   },
   "file_extension": ".py",
   "mimetype": "text/x-python",
   "name": "python",
   "nbconvert_exporter": "python",
   "pygments_lexer": "ipython3",
   "version": "3.10.6"
  },
  "orig_nbformat": 4
 },
 "nbformat": 4,
 "nbformat_minor": 2
}
