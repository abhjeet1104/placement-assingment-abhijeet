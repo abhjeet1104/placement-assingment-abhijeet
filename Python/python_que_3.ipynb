{
 "cells": [
  {
   "cell_type": "code",
   "execution_count": 1,
   "metadata": {},
   "outputs": [
    {
     "name": "stdout",
     "output_type": "stream",
     "text": [
      "Jason Data loaded and saved as Excel successfully.\n"
     ]
    }
   ],
   "source": [
    "import pandas as pd \n",
    "\n",
    "Link =\"https://raw.githubusercontent.com/Biuni/PokemonGO-Pokedex/master/pokedex.json\"\n",
    "\n",
    "data = pd.read_json(Link,orient=\"columns\")\n",
    "dict= data['pokemon']\n",
    "\n",
    "tabled_json = pd.json_normalize(dict)\n",
    "# tabled_json.head()\n",
    "\n",
    "output_path = 'pokemon.xlsx'\n",
    "tabled_json.to_excel(output_path, index=False)\n",
    "\n",
    "print(\"Jason Data loaded and saved as Excel successfully.\")"
   ]
  }
 ],
 "metadata": {
  "kernelspec": {
   "display_name": "Python 3",
   "language": "python",
   "name": "python3"
  },
  "language_info": {
   "codemirror_mode": {
    "name": "ipython",
    "version": 3
   },
   "file_extension": ".py",
   "mimetype": "text/x-python",
   "name": "python",
   "nbconvert_exporter": "python",
   "pygments_lexer": "ipython3",
   "version": "3.10.6"
  },
  "orig_nbformat": 4
 },
 "nbformat": 4,
 "nbformat_minor": 2
}
