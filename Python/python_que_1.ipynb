{
 "cells": [
  {
   "cell_type": "code",
   "execution_count": 1,
   "metadata": {},
   "outputs": [
    {
     "name": "stdout",
     "output_type": "stream",
     "text": [
      "{'write': 3, 'all': 1, 'the': 1, 'number': 1, 'from': 3, '1': 1, 'to': 1, '100': 1}\n"
     ]
    },
    {
     "data": {
      "text/plain": [
       "5"
      ]
     },
     "execution_count": 1,
     "metadata": {},
     "output_type": "execute_result"
    }
   ],
   "source": [
    "my_string = 'write write write all the number from from from 1 to 100'\n",
    "\n",
    "def frequent_word(string):\n",
    "    \"\"\" Returns most frequently occurring word from a string.\"\"\"\n",
    "\n",
    "    list_of_substrings = string.split()\n",
    "    checked_words = {}\n",
    "    most_frequent_occur = 0\n",
    "\n",
    "    for i in list_of_substrings:\n",
    "        if i in checked_words:\n",
    "            continue\n",
    "        else:\n",
    "            occur = list_of_substrings.count(i)\n",
    "            checked_words[i]= occur\n",
    "    most_frequent_occur = max(checked_words.values())\n",
    "   \n",
    "    print(checked_words)\n",
    "    list_most_frequent_occurred_words = []\n",
    "    for k, v in checked_words.items():\n",
    "        if v == most_frequent_occur:\n",
    "            list_most_frequent_occurred_words.append(k)\n",
    "    \n",
    "    max_len = 0\n",
    "    for i in list_most_frequent_occurred_words:\n",
    "        if len(i) > max_len:\n",
    "            max_len = len(i)\n",
    "    return(max_len)\n",
    "frequent_word(my_string)"
   ]
  },
  {
   "attachments": {},
   "cell_type": "markdown",
   "metadata": {},
   "source": [
    "### other test cases:\n"
   ]
  },
  {
   "cell_type": "code",
   "execution_count": 2,
   "metadata": {},
   "outputs": [
    {
     "name": "stdout",
     "output_type": "stream",
     "text": [
      "{'I': 1, 'am': 1, 'not': 2, 'able': 1, 'to': 1, 'read': 1, 'it': 1}\n"
     ]
    },
    {
     "data": {
      "text/plain": [
       "3"
      ]
     },
     "execution_count": 2,
     "metadata": {},
     "output_type": "execute_result"
    }
   ],
   "source": [
    "\n",
    "frequent_word(\"I am not not able to read it\")"
   ]
  },
  {
   "cell_type": "code",
   "execution_count": 3,
   "metadata": {},
   "outputs": [
    {
     "name": "stdout",
     "output_type": "stream",
     "text": [
      "{'I': 3, 'will': 1, 'read': 1, 'it': 1, 'tomorrow': 1}\n"
     ]
    },
    {
     "data": {
      "text/plain": [
       "1"
      ]
     },
     "execution_count": 3,
     "metadata": {},
     "output_type": "execute_result"
    }
   ],
   "source": [
    "frequent_word(\"I I I will read it tomorrow\")"
   ]
  }
 ],
 "metadata": {
  "kernelspec": {
   "display_name": "Python 3",
   "language": "python",
   "name": "python3"
  },
  "language_info": {
   "codemirror_mode": {
    "name": "ipython",
    "version": 3
   },
   "file_extension": ".py",
   "mimetype": "text/x-python",
   "name": "python",
   "nbconvert_exporter": "python",
   "pygments_lexer": "ipython3",
   "version": "3.10.6"
  },
  "orig_nbformat": 4
 },
 "nbformat": 4,
 "nbformat_minor": 2
}
