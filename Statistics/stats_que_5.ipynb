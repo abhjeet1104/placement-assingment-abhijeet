{
 "cells": [
  {
   "attachments": {},
   "cell_type": "markdown",
   "metadata": {},
   "source": [
    "```\n",
    "A certain city has two taxi companies: Company A has 80% of the taxis and\n",
    "Company B has 20% of the taxis. Company A's taxis have a 95% success rate for picking\n",
    "up passengers on time, while Company B's taxis have a 90% success rate. If a randomly\n",
    "selected taxi is late, what is the probability that it belongs to Company A?\n",
    "```"
   ]
  },
  {
   "cell_type": "code",
   "execution_count": 1,
   "metadata": {},
   "outputs": [
    {
     "name": "stdout",
     "output_type": "stream",
     "text": [
      "Probability that a late taxi belongs to Company A: 0.6666666666666666\n"
     ]
    }
   ],
   "source": [
    "# probability of selecting a taxi from Company A\n",
    "prob_company_A = 0.8\n",
    "\n",
    "#probability of selecting a taxi from Company B\n",
    "prob_company_B = 0.2\n",
    "\n",
    "#probability of a taxi from Company A being late\n",
    "prob_late_company_A = 0.05\n",
    "\n",
    "#probability of a taxi from Company B being late\n",
    "prob_late_company_B = 0.10\n",
    "\n",
    "#probability of a randomly selected taxi being late\n",
    "prob_late = (prob_company_A * prob_late_company_A) + (prob_company_B * prob_late_company_B)\n",
    "\n",
    "#probability that a late taxi belongs to Company A using Bayes' theorem\n",
    "prob_company_A_given_late = (prob_company_A * prob_late_company_A) / prob_late\n",
    "\n",
    "#probability as a decimal\n",
    "print(\"Probability that a late taxi belongs to Company A:\", prob_company_A_given_late)\n"
   ]
  }
 ],
 "metadata": {
  "kernelspec": {
   "display_name": "Python 3",
   "language": "python",
   "name": "python3"
  },
  "language_info": {
   "codemirror_mode": {
    "name": "ipython",
    "version": 3
   },
   "file_extension": ".py",
   "mimetype": "text/x-python",
   "name": "python",
   "nbconvert_exporter": "python",
   "pygments_lexer": "ipython3",
   "version": "3.10.6"
  },
  "orig_nbformat": 4
 },
 "nbformat": 4,
 "nbformat_minor": 2
}
