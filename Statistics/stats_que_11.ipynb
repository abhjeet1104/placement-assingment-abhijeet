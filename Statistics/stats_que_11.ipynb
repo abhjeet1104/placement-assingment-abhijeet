{
 "cells": [
  {
   "attachments": {},
   "cell_type": "markdown",
   "metadata": {},
   "source": [
    "a. To check whether the distribution of all the classes is the same or not, we can perform an analysis of variance (ANOVA). ANOVA tests whether there are statistically significant differences between the means of two or more groups. In this case, we can compare the blood pressure before and after values for each class.\n",
    "\n",
    "b. To check for the equality of variance, we can perform a test such as Bartlett's test or Levene's test. These tests evaluate whether the variances of different groups are statistically significantly different. In this case, we can compare the variances of the blood pressure before and after values for each class.\n",
    "\n",
    "c. LDA (Linear Discriminant Analysis) and QDA (Quadratic Discriminant Analysis) are classification methods used when the goal is to predict the class membership of observations based on their predictor variables. LDA assumes that the classes have equal covariance matrices and differ only in their means. QDA, on the other hand, allows for different covariance matrices for each class.\n",
    "To determine which method (LDA or QDA) would perform better on this data for classification, we can perform cross-validation or calculate the misclassification rate for both methods. By comparing the performance of LDA and QDA on the data, we can determine which method provides better classification accuracy. The choice between LDA and QDA depends on the underlying data distribution and the assumptions made about the covariance matrices.\n",
    "\n",
    "d. To check the equality of mean between all the classes, we can perform a one-way ANOVA or t-tests for pairwise comparisons. These tests can determine if there are statistically significant differences in the means of different classes. By comparing the means of the blood pressure before and after values for each class, we can evaluate if there are significant differences in means among the classes.\n"
   ]
  },
  {
   "cell_type": "code",
   "execution_count": null,
   "metadata": {},
   "outputs": [],
   "source": []
  }
 ],
 "metadata": {
  "language_info": {
   "name": "python"
  },
  "orig_nbformat": 4
 },
 "nbformat": 4,
 "nbformat_minor": 2
}
