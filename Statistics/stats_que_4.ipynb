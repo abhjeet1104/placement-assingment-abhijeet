{
 "cells": [
  {
   "attachments": {},
   "cell_type": "markdown",
   "metadata": {},
   "source": [
    "A group of 20 friends decide to play a game in which they each write a number\n",
    "between 1 and 20 on a slip of paper and put it into a hat. They then draw one slip of paper\n",
    "at random. What is the probability that the number on the slip of paper is a perfect square\n",
    "(i.e., 1, 4, 9, or 16)?"
   ]
  },
  {
   "cell_type": "code",
   "execution_count": 1,
   "metadata": {},
   "outputs": [
    {
     "name": "stdout",
     "output_type": "stream",
     "text": [
      "Probability:  1/5\n",
      "Probability as decimal:  0.2\n"
     ]
    }
   ],
   "source": [
    "# Import the necessary library\n",
    "import fractions\n",
    "\n",
    "# Define the number of favorable outcomes\n",
    "favorable_outcomes = 4\n",
    "\n",
    "# Define the total number of possible outcomes\n",
    "total_outcomes = 20\n",
    "\n",
    "# Calculate the probability using fractions to maintain precision\n",
    "probability = fractions.Fraction(favorable_outcomes, total_outcomes)\n",
    "\n",
    "# Print the probability as a fraction and decimal\n",
    "print(\"Probability: \", probability)\n",
    "print(\"Probability as decimal: \", float(probability))\n"
   ]
  }
 ],
 "metadata": {
  "kernelspec": {
   "display_name": "Python 3",
   "language": "python",
   "name": "python3"
  },
  "language_info": {
   "codemirror_mode": {
    "name": "ipython",
    "version": 3
   },
   "file_extension": ".py",
   "mimetype": "text/x-python",
   "name": "python",
   "nbconvert_exporter": "python",
   "pygments_lexer": "ipython3",
   "version": "3.10.6"
  },
  "orig_nbformat": 4
 },
 "nbformat": 4,
 "nbformat_minor": 2
}
