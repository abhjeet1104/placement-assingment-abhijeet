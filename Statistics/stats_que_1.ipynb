{
 "cells": [
  {
   "attachments": {},
   "cell_type": "markdown",
   "metadata": {},
   "source": [
    "A university wants to understand the relationship between the SAT scores of its\n",
    "applicants and their college GPA. They collect data on 500 students, including their SAT\n",
    "scores (out of 1600) and their college GPA (on a 4.0 scale). They find that the correlation\n",
    "coefficient between SAT scores and college GPA is 0.7. What does this correlation\n",
    "coefficient indicate about the relationship between SAT scores and college GPA?"
   ]
  },
  {
   "cell_type": "markdown",
   "metadata": {},
   "source": [
    "Ans: "
   ]
  },
  {
   "attachments": {},
   "cell_type": "markdown",
   "metadata": {},
   "source": [
    "As we can see that we have two features in our dataset. One is SAT scores and the other is Collage GPA. \n",
    "The Correlation between SAT scores and Collage GPA is 0.7. \n",
    "\n",
    "\n",
    "When we calculate the correlation between SAT scores and Collage GPA the possible values we can get values from -1 to 1. If value is more close to 1 we can say that we have positive correlation between SAT scores and Collage GPA. If value is more close to -1 we can say that we have negative correlation between SAT scores. If value is 0 means we don't have any correlation between SAT scores and Collage GPA. \n",
    "\n",
    "Here value for correlation coefficient is 0.7 which indicates that we have positive correlation between SAT scores and Collage GPA. which means if we have High GPA then it's more likely that we will have high SAT Scores."
   ]
  }
 ],
 "metadata": {
  "language_info": {
   "name": "python"
  },
  "orig_nbformat": 4
 },
 "nbformat": 4,
 "nbformat_minor": 2
}
