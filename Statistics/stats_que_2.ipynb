{
 "cells": [
  {
   "cell_type": "markdown",
   "metadata": {},
   "source": []
  },
  {
   "attachments": {},
   "cell_type": "markdown",
   "metadata": {},
   "source": [
    "que. 1:"
   ]
  },
  {
   "attachments": {},
   "cell_type": "markdown",
   "metadata": {},
   "source": [
    "The empirical rule is a statistical principle that states that for a normal distribution, approximately 68% of the data will fall within one standard deviation of the mean, approximately 95% of the data will fall within two standard deviations of the mean, and approximately 99.7% of the data will fall within three standard deviations of the mean. This principle is also known as the 68-95-99.7 rule or the three-sigma rule."
   ]
  },
  {
   "attachments": {},
   "cell_type": "markdown",
   "metadata": {},
   "source": [
    "Our mean is 170 and standard deviation is 10 cm. We want to calculate What percentage of individuals in the dataset have heights between 160 cm\n",
    "and 180 cm? \n",
    "\n",
    "This is nothing but our first standard deviation and as per empirical rule for normal distribution 68 percent of individuals will have heights between 160 cm and 180 cm."
   ]
  },
  {
   "attachments": {},
   "cell_type": "markdown",
   "metadata": {},
   "source": [
    "que. 2:\n"
   ]
  },
  {
   "attachments": {},
   "cell_type": "markdown",
   "metadata": {},
   "source": [
    "If we randomly select 100 individuals from the dataset, what is the probability\n",
    "that their average height is greater than 175 cm?"
   ]
  },
  {
   "cell_type": "code",
   "execution_count": 2,
   "metadata": {},
   "outputs": [
    {
     "name": "stdout",
     "output_type": "stream",
     "text": [
      "5.0\n"
     ]
    }
   ],
   "source": [
    "import math \n",
    "z_score = (175 - 170) / (10/math.sqrt(100))\n",
    "print(z_score)"
   ]
  },
  {
   "cell_type": "code",
   "execution_count": 3,
   "metadata": {},
   "outputs": [
    {
     "name": "stdout",
     "output_type": "stream",
     "text": [
      "0.9999997133484281\n",
      "2.866515719235352e-07\n"
     ]
    }
   ],
   "source": [
    "from scipy.stats import norm\n",
    "\n",
    "print(norm.cdf(5))\n",
    "\n",
    "prob = 1 - norm.cdf(5)\n",
    "print(prob)"
   ]
  },
  {
   "cell_type": "code",
   "execution_count": 4,
   "metadata": {},
   "outputs": [
    {
     "name": "stdout",
     "output_type": "stream",
     "text": [
      "The probability that the average height of 100 individuals is greater than 175 cm is: 2.866515719235352e-07\n"
     ]
    }
   ],
   "source": [
    "from scipy.stats import norm\n",
    "\n",
    "mean = 170\n",
    "std_dev = 10\n",
    "sample_size = 100\n",
    "\n",
    "desired_mean = 175\n",
    "\n",
    "# Calculate the standard error of the mean\n",
    "std_error = std_dev / (sample_size ** 0.5)\n",
    "\n",
    "# Calculate the z-score for the desired mean\n",
    "z_score = (desired_mean - mean) / std_error\n",
    "\n",
    "# Calculate the probability using the complementary cumulative distribution function (1 - CDF)\n",
    "probability = 1 - norm.cdf(z_score)\n",
    "\n",
    "print(f\"The probability that the average height of 100 individuals is greater than 175 cm is: {probability}\")\n"
   ]
  },
  {
   "attachments": {},
   "cell_type": "markdown",
   "metadata": {},
   "source": [
    "que. 3 : Assuming the dataset follows a normal distribution, what is the z-score\n",
    "corresponding to a height of 185 cm?"
   ]
  },
  {
   "cell_type": "code",
   "execution_count": 5,
   "metadata": {},
   "outputs": [
    {
     "name": "stdout",
     "output_type": "stream",
     "text": [
      "1.5 is the Z score.\n"
     ]
    }
   ],
   "source": [
    "desired_mean = 185\n",
    "mean = 170\n",
    "std_dev = 10 \n",
    "\n",
    "# we are not taking any sample so we can standard deviation. \n",
    "z_score = (desired_mean - mean) / std_dev\n",
    "\n",
    "print(z_score, \"is the Z score.\")"
   ]
  },
  {
   "cell_type": "markdown",
   "metadata": {},
   "source": [
    "que. 4: We know that 5% of the dataset has heights below a certain value. What is\n",
    "the approximate height corresponding to this threshold"
   ]
  },
  {
   "cell_type": "code",
   "execution_count": 7,
   "metadata": {},
   "outputs": [
    {
     "name": "stdout",
     "output_type": "stream",
     "text": [
      "153.5\n"
     ]
    }
   ],
   "source": [
    "# probability 5 % \n",
    "\n",
    "# z score for 5 % probability\n",
    "\n",
    "# from  z table value for probability 0.0505 z score will be -1.64 \n",
    "\n",
    "z_score = -1.64\n",
    "\n",
    "desired_mean = ( z_score * std_dev ) + mean \n",
    "print(desired_mean) # approximate "
   ]
  },
  {
   "cell_type": "code",
   "execution_count": 9,
   "metadata": {},
   "outputs": [
    {
     "name": "stdout",
     "output_type": "stream",
     "text": [
      "-1.65 is the Z score.\n"
     ]
    }
   ],
   "source": [
    "# reverse approach:\n",
    "desired_mean = 153.5 # cm \n",
    "mean = 170\n",
    "std_dev = 10 \n",
    "\n",
    "# we are not taking any sample so we can standard deviation. \n",
    "z_score = (desired_mean - mean) / std_dev\n",
    "\n",
    "print(z_score, \"is the Z score.\")"
   ]
  },
  {
   "attachments": {},
   "cell_type": "markdown",
   "metadata": {},
   "source": [
    "Que. 5.: Calculate the coefficient of variation (CV) for the dataset. "
   ]
  },
  {
   "cell_type": "markdown",
   "metadata": {},
   "source": [
    "The coefficient of variation (CV) is a statistical measure used to assess the relative variability of a set of data. It is calculated as the ratio of the standard deviation of a dataset to its mean, expressed as a **percentage**.\n",
    "\n",
    "Mathematically, the coefficient of variation can be expressed as:\n",
    "\n",
    "CV = (standard deviation / mean) x 100%"
   ]
  },
  {
   "cell_type": "code",
   "execution_count": 11,
   "metadata": {},
   "outputs": [
    {
     "name": "stdout",
     "output_type": "stream",
     "text": [
      "5.88235294117647\n"
     ]
    }
   ],
   "source": [
    "cv = (std_dev/ mean) * 100\n",
    "print(cv) # coefficient of variance. "
   ]
  },
  {
   "attachments": {},
   "cell_type": "markdown",
   "metadata": {},
   "source": [
    "Que. 6.: Calculate the skewness of the dataset and interpret the result"
   ]
  },
  {
   "attachments": {},
   "cell_type": "markdown",
   "metadata": {},
   "source": [
    "To calculate the skewness of the dataset, we can use the following formula:\n",
    "\n",
    "\n",
    "Skewness = (Mean - Median) / (3 * Standard Deviation)\n",
    "\n",
    "In this case, the mean is 170 cm, the median is 170 cm, and the standard deviation is 10 cm. Plugging these values into the formula, we get the following:\n",
    "\n",
    "Skewness = (170 - 170) / (3 * 10) = 0\n",
    "\n"
   ]
  }
 ],
 "metadata": {
  "kernelspec": {
   "display_name": "Python 3",
   "language": "python",
   "name": "python3"
  },
  "language_info": {
   "codemirror_mode": {
    "name": "ipython",
    "version": 3
   },
   "file_extension": ".py",
   "mimetype": "text/x-python",
   "name": "python",
   "nbconvert_exporter": "python",
   "pygments_lexer": "ipython3",
   "version": "3.10.6"
  },
  "orig_nbformat": 4
 },
 "nbformat": 4,
 "nbformat_minor": 2
}
