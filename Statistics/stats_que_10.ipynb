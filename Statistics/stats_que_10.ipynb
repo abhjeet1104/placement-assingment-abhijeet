{
 "cells": [
  {
   "attachments": {},
   "cell_type": "markdown",
   "metadata": {},
   "source": [
    "To solve these probability questions, we will use the binomial probability formula:\n",
    "\n",
    "P(X=k) = C(n, k) * p^k * (1-p)^(n-k)\n",
    "\n",
    "Where:\n",
    "- P(X=k) is the probability of getting exactly k successes (defective bulbs)\n",
    "- n is the total number of trials (total number of bulbs)\n",
    "- k is the number of successes (number of defective bulbs)\n",
    "- p is the probability of success (probability of a bulb being defective)\n",
    "- (1-p) is the probability of failure (probability of a bulb not being defective)\n",
    "- C(n, k) is the number of combinations, calculated as C(n, k) = n! / (k! * (n-k)!)\n",
    "\n",
    "a. What is the probability that exactly 20 bulbs are defective?\n",
    "\n",
    "P(X=20) = C(500, 20) * (0.05^20) * (0.95^(500-20))\n",
    "\n",
    "b. What is the probability that at least 10 bulbs are defective?\n",
    "\n",
    "P(X >= 10) = P(X=10) + P(X=11) + ... + P(X=500)\n",
    "\n",
    "c. What is the probability that at most 15 bulbs are defective?\n",
    "\n",
    "P(X <= 15) = P(X=0) + P(X=1) + ... + P(X=15)\n",
    "\n",
    "d. On average, how many defective bulbs would you expect in a batch of 500?\n",
    "\n",
    "The expected value of a binomial distribution is given by E(X) = n * p. So, the expected number of defective bulbs would be E(X) = 500 * 0.05.\n",
    "\n",
    "To get the specific probabilities and expected value, we can use a statistical software, such as Excel or Python, or use statistical tables.\n",
    "\n"
   ]
  },
  {
   "cell_type": "markdown",
   "metadata": {},
   "source": []
  }
 ],
 "metadata": {
  "language_info": {
   "name": "python"
  },
  "orig_nbformat": 4
 },
 "nbformat": 4,
 "nbformat_minor": 2
}
